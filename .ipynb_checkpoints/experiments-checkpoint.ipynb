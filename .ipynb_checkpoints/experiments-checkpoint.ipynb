{
 "cells": [
  {
   "cell_type": "markdown",
   "metadata": {},
   "source": [
    "# Data Snapshot Experiments\n",
    "\n",
    "\n",
    "This notebook has two purposes:\n",
    "\n",
    "1. To demonstrate the backtesting framework (see the README.md file) we have created\n",
    "2. To show how retraining and selecting a good data snapshot methodology are crucial to building accurate models\n",
    "\n",
    "In our experiments we re-create a simple regression problem - real world problems could be sales forecasting, demand forecasting, etc. In our example we have a timestamp - this is a crucial piece of information when building ML pipelines as we need to know what data is available at training time.\n",
    "\n",
    "If you are using a SQL Server database to store the data, you may want to explore the temporal tables feature as this can help snapshot the table at a moment in time (see [here](https://docs.microsoft.com/en-us/sql/relational-databases/tables/temporal-tables?view=sql-server-2017) for more details)."
   ]
  },
  {
   "cell_type": "markdown",
   "metadata": {},
   "source": [
    "## Fixed Process\n",
    "\n",
    "We generate a target variable using the following linear equation\n",
    "\n",
    "$y_{t+1} = \\phi_1 x_{t} + \\phi_2 z_{t} + r_t$\n",
    "\n",
    "where the next target value is a linear combination of two random variables - $x$ and $z$ plus some noise, $r$.\n",
    "\n",
    "The reason we have used a time dependency i.e. we are forecasting $y_{t+1}$ rather than $y_t$ is that if we used the following equation:\n",
    "\n",
    "$y_{t} = \\phi_1 x_{t} + \\phi_2 z_{t} + r_t$\n",
    "\n",
    "then we cannot forecast ahead of time since the target variable requires the input variables at exactly the same time and there would be little point in building a predictive model.\n",
    "\n",
    "Below we build out the dataset."
   ]
  },
  {
   "cell_type": "code",
   "execution_count": 1,
   "metadata": {},
   "outputs": [],
   "source": [
    "import numpy as np\n",
    "import pandas as pd\n",
    "import matplotlib.pyplot as plt\n",
    "import examples.simple.backtest_pkg.PipelineControl as pc"
   ]
  },
  {
   "cell_type": "code",
   "execution_count": 2,
   "metadata": {},
   "outputs": [],
   "source": [
    "n = 3652 # generate 10 year history\n",
    "phi1 = 2\n",
    "phi2 = 3"
   ]
  },
  {
   "cell_type": "code",
   "execution_count": 3,
   "metadata": {},
   "outputs": [],
   "source": [
    "x = np.round(np.random.uniform(high=100.0, low=0.0, size=n))\n",
    "z = np.round(np.random.uniform(high=30.0, low=0.0, size=n))\n",
    "r = np.round(np.random.normal(loc=0, scale=10, size=n))\n",
    "u1 = np.round(np.random.uniform(high=60, low=10.0, size=n))\n",
    "u2 = np.round(np.random.uniform(high=200, low=100.0, size=n))\n",
    "y = np.zeros(n)\n",
    "y[1:n] = phi1*x[0:(n-1)] + phi2*z[0:(n-1)] + r[1:n]"
   ]
  },
  {
   "cell_type": "markdown",
   "metadata": {},
   "source": [
    "We compute the standard deviation of the noise component in our data. This will allow us to assess the model quality."
   ]
  },
  {
   "cell_type": "code",
   "execution_count": 4,
   "metadata": {},
   "outputs": [
    {
     "name": "stdout",
     "output_type": "stream",
     "text": [
      "Standard deviation of the noise component is 10.246544928757892\n"
     ]
    }
   ],
   "source": [
    "stdev_r = np.std(r)\n",
    "print(f'Standard deviation of the noise component is {stdev_r}')"
   ]
  },
  {
   "cell_type": "markdown",
   "metadata": {},
   "source": [
    "We create our dataset into a pandas DataFrame. You will notice that we have included some other input variables that are *not* predictively useful - this is so we can build feature selection into our pipeline. Moreover, you will see that the data is time aligned, which means that the data scientist will have to munge the data in order to produre a feature of lagged inputs."
   ]
  },
  {
   "cell_type": "code",
   "execution_count": 5,
   "metadata": {},
   "outputs": [
    {
     "data": {
      "text/html": [
       "<div>\n",
       "<style scoped>\n",
       "    .dataframe tbody tr th:only-of-type {\n",
       "        vertical-align: middle;\n",
       "    }\n",
       "\n",
       "    .dataframe tbody tr th {\n",
       "        vertical-align: top;\n",
       "    }\n",
       "\n",
       "    .dataframe thead th {\n",
       "        text-align: right;\n",
       "    }\n",
       "</style>\n",
       "<table border=\"1\" class=\"dataframe\">\n",
       "  <thead>\n",
       "    <tr style=\"text-align: right;\">\n",
       "      <th></th>\n",
       "      <th>date</th>\n",
       "      <th>input1</th>\n",
       "      <th>input2</th>\n",
       "      <th>input3</th>\n",
       "      <th>input4</th>\n",
       "      <th>target</th>\n",
       "    </tr>\n",
       "  </thead>\n",
       "  <tbody>\n",
       "    <tr>\n",
       "      <th>1</th>\n",
       "      <td>2008-08-27</td>\n",
       "      <td>41.0</td>\n",
       "      <td>29.0</td>\n",
       "      <td>28.0</td>\n",
       "      <td>183.0</td>\n",
       "      <td>265.0</td>\n",
       "    </tr>\n",
       "    <tr>\n",
       "      <th>2</th>\n",
       "      <td>2008-08-28</td>\n",
       "      <td>34.0</td>\n",
       "      <td>9.0</td>\n",
       "      <td>56.0</td>\n",
       "      <td>105.0</td>\n",
       "      <td>150.0</td>\n",
       "    </tr>\n",
       "    <tr>\n",
       "      <th>3</th>\n",
       "      <td>2008-08-29</td>\n",
       "      <td>67.0</td>\n",
       "      <td>7.0</td>\n",
       "      <td>17.0</td>\n",
       "      <td>111.0</td>\n",
       "      <td>91.0</td>\n",
       "    </tr>\n",
       "    <tr>\n",
       "      <th>4</th>\n",
       "      <td>2008-08-30</td>\n",
       "      <td>90.0</td>\n",
       "      <td>24.0</td>\n",
       "      <td>58.0</td>\n",
       "      <td>187.0</td>\n",
       "      <td>149.0</td>\n",
       "    </tr>\n",
       "    <tr>\n",
       "      <th>5</th>\n",
       "      <td>2008-08-31</td>\n",
       "      <td>35.0</td>\n",
       "      <td>13.0</td>\n",
       "      <td>45.0</td>\n",
       "      <td>147.0</td>\n",
       "      <td>259.0</td>\n",
       "    </tr>\n",
       "  </tbody>\n",
       "</table>\n",
       "</div>"
      ],
      "text/plain": [
       "        date  input1  input2  input3  input4  target\n",
       "1 2008-08-27    41.0    29.0    28.0   183.0   265.0\n",
       "2 2008-08-28    34.0     9.0    56.0   105.0   150.0\n",
       "3 2008-08-29    67.0     7.0    17.0   111.0    91.0\n",
       "4 2008-08-30    90.0    24.0    58.0   187.0   149.0\n",
       "5 2008-08-31    35.0    13.0    45.0   147.0   259.0"
      ]
     },
     "execution_count": 5,
     "metadata": {},
     "output_type": "execute_result"
    }
   ],
   "source": [
    "datelist = pd.date_range(end=pd.datetime.today(), periods=n, normalize=True).tolist()\n",
    "my_data = pd.DataFrame({'date': datelist, 'input1': x, 'input2': z, 'input3': u1, 'input4': u2, 'target': y})\n",
    "my_data = my_data.drop(0)\n",
    "my_data.head(5)"
   ]
  },
  {
   "cell_type": "markdown",
   "metadata": {},
   "source": [
    "### An example ML Pipeline\n",
    "\n",
    "Below we build a very simple pipeline using scikit-learn:"
   ]
  },
  {
   "cell_type": "code",
   "execution_count": 6,
   "metadata": {},
   "outputs": [],
   "source": [
    "from sklearn import linear_model\n",
    "from sklearn.feature_selection import SelectKBest\n",
    "from sklearn.feature_selection import f_regression\n",
    "from sklearn.pipeline import Pipeline\n",
    "\n",
    "n = len(my_data)\n",
    "features = my_data.loc[:,'input1':'input4'][0:(n-1)] # create lagged inputs for the feature set\n",
    "y = my_data.loc[:,'target'][1:n]"
   ]
  },
  {
   "cell_type": "markdown",
   "metadata": {},
   "source": [
    "Below we take a look at the fitted coefficients - they are very close to $\\phi_1=2$ and $\\phi_2=3$."
   ]
  },
  {
   "cell_type": "code",
   "execution_count": 7,
   "metadata": {},
   "outputs": [
    {
     "data": {
      "text/plain": [
       "array([2.00216341, 2.99545507])"
      ]
     },
     "execution_count": 7,
     "metadata": {},
     "output_type": "execute_result"
    }
   ],
   "source": [
    "feature_filter = SelectKBest(f_regression, k=2)\n",
    "model = linear_model.LinearRegression(fit_intercept=False)\n",
    "my_pipeline = Pipeline([('feature_selection',feature_filter), ('linear_model', model)])\n",
    "fitted_pipeline = my_pipeline.fit(features,y)\n",
    "\n",
    "my_pipeline.named_steps['linear_model'].coef_"
   ]
  },
  {
   "cell_type": "markdown",
   "metadata": {},
   "source": [
    "### Write dataset to file\n",
    "\n",
    "We write the dataset out to file for use in our backtesting framework."
   ]
  },
  {
   "cell_type": "code",
   "execution_count": 8,
   "metadata": {},
   "outputs": [],
   "source": [
    "my_data.to_csv('examples/simple/data/fixed_process_data.csv', index=False)"
   ]
  },
  {
   "cell_type": "markdown",
   "metadata": {},
   "source": [
    "### Run Backtest with no retraining\n",
    "\n",
    "We run a backtest where we do an initial model build, but we do not retrain/refit our ML Pipeline. Therefore, each day we are making predictions for the next day - this is illustrated in the console output below where `tdate` is the date a prediction is made and `pdate` is the forecast date i.e. next day."
   ]
  },
  {
   "cell_type": "code",
   "execution_count": null,
   "metadata": {},
   "outputs": [],
   "source": [
    "pipe = pc.PipelineControl(data_path='examples/simple/data/fixed_process_data.csv', \n",
    "                          prediction_path='examples/simple/data/predictions.csv', \n",
    "                          retraining_flag=False)\n",
    "pipe.runPipeline()"
   ]
  },
  {
   "cell_type": "markdown",
   "metadata": {},
   "source": [
    "As we see below the error of the model is consistent through time and the standard deviation of the error is very close to the error we set in the data (i.e. 10). This demonstrates that when our process is fixed i.e. does not vary through time that we can train a model once and run it without a need to retrain."
   ]
  },
  {
   "cell_type": "code",
   "execution_count": 10,
   "metadata": {},
   "outputs": [
    {
     "data": {
      "text/plain": [
       "[<matplotlib.lines.Line2D at 0x116ea4470>]"
      ]
     },
     "execution_count": 10,
     "metadata": {},
     "output_type": "execute_result"
    },
    {
     "data": {
      "image/png": "[encoded data removed]",
      "text/plain": [
       "<Figure size 432x288 with 1 Axes>"
      ]
     },
     "metadata": {},
     "output_type": "display_data"
    }
   ],
   "source": [
    "plt.plot(pipe.tracking_error)"
   ]
  },
  {
   "cell_type": "code",
   "execution_count": 14,
   "metadata": {},
   "outputs": [
    {
     "name": "stdout",
     "output_type": "stream",
     "text": [
      "standard deviation of tracking error: 10.302751093745767\n"
     ]
    }
   ],
   "source": [
    "print(f'standard deviation of tracking error: {np.std(pipe.tracking_error)}')"
   ]
  },
  {
   "cell_type": "markdown",
   "metadata": {},
   "source": [
    "### Run backtest with retraining\n",
    "\n",
    "Next we run another backtest on the dataset, but with retraining enabled. Our backtest system uses a simple time-based strategy to initiate the retraining of the pipeline: the end of each month. In this case we do not use a sliding window data snapshot methodology put rather keep retraining each month on the fully available data at that time.\n",
    "\n",
    "In the console output you will see a message on the last day of each month that shows it is rebuilding a model."
   ]
  },
  {
   "cell_type": "code",
   "execution_count": null,
   "metadata": {},
   "outputs": [],
   "source": [
    "import examples.simple.backtest_pkg.PipelineControl as pc\n",
    "\n",
    "pipe = pc.PipelineControl(data_path='examples/simple/data/fixed_process_data.csv', \n",
    "                          prediction_path='examples/simple/data/predictions.csv',\n",
    "                          retraining_flag=True)\n",
    "pipe.runPipeline()"
   ]
  },
  {
   "cell_type": "markdown",
   "metadata": {},
   "source": [
    "Again, we see that the tracking error is close to our dataset."
   ]
  },
  {
   "cell_type": "code",
   "execution_count": 30,
   "metadata": {},
   "outputs": [
    {
     "data": {
      "text/plain": [
       "[<matplotlib.lines.Line2D at 0x10ba20f60>]"
      ]
     },
     "execution_count": 30,
     "metadata": {},
     "output_type": "execute_result"
    },
    {
     "data": {
      "image/png": "[encoded data removed]",
      "text/plain": [
       "<Figure size 432x288 with 1 Axes>"
      ]
     },
     "metadata": {},
     "output_type": "display_data"
    }
   ],
   "source": [
    "plt.plot(pipe.tracking_error)"
   ]
  },
  {
   "cell_type": "code",
   "execution_count": 31,
   "metadata": {},
   "outputs": [
    {
     "data": {
      "text/plain": [
       "10.298510304366456"
      ]
     },
     "execution_count": 31,
     "metadata": {},
     "output_type": "execute_result"
    }
   ],
   "source": [
    "np.std(pipe.tracking_error)"
   ]
  },
  {
   "cell_type": "markdown",
   "metadata": {},
   "source": [
    "## Varying process\n",
    "\n",
    "Now we are going to append some additional data to our original set below, but in this case we change the parameters in our underlying equation to $\\phi_1=-2$ and $\\phi_2=2$. We still keep the same noise level (i.e. $\\sigma(r)=10$)."
   ]
  },
  {
   "cell_type": "code",
   "execution_count": 19,
   "metadata": {},
   "outputs": [],
   "source": [
    "n = 3652\n",
    "phi1 = -2\n",
    "phi2 = 2\n",
    "y = np.zeros(n)\n",
    "y[1:n] = phi1*x[0:(n-1)] + phi2*z[0:(n-1)] + r[1:n]"
   ]
  },
  {
   "cell_type": "code",
   "execution_count": 20,
   "metadata": {},
   "outputs": [
    {
     "data": {
      "text/html": [
       "<div>\n",
       "<style scoped>\n",
       "    .dataframe tbody tr th:only-of-type {\n",
       "        vertical-align: middle;\n",
       "    }\n",
       "\n",
       "    .dataframe tbody tr th {\n",
       "        vertical-align: top;\n",
       "    }\n",
       "\n",
       "    .dataframe thead th {\n",
       "        text-align: right;\n",
       "    }\n",
       "</style>\n",
       "<table border=\"1\" class=\"dataframe\">\n",
       "  <thead>\n",
       "    <tr style=\"text-align: right;\">\n",
       "      <th></th>\n",
       "      <th>date</th>\n",
       "      <th>input1</th>\n",
       "      <th>input2</th>\n",
       "      <th>input3</th>\n",
       "      <th>input4</th>\n",
       "      <th>target</th>\n",
       "    </tr>\n",
       "  </thead>\n",
       "  <tbody>\n",
       "    <tr>\n",
       "      <th>1</th>\n",
       "      <td>2018-08-26</td>\n",
       "      <td>41.0</td>\n",
       "      <td>29.0</td>\n",
       "      <td>28.0</td>\n",
       "      <td>183.0</td>\n",
       "      <td>-120.0</td>\n",
       "    </tr>\n",
       "    <tr>\n",
       "      <th>2</th>\n",
       "      <td>2018-08-27</td>\n",
       "      <td>34.0</td>\n",
       "      <td>9.0</td>\n",
       "      <td>56.0</td>\n",
       "      <td>105.0</td>\n",
       "      <td>-43.0</td>\n",
       "    </tr>\n",
       "    <tr>\n",
       "      <th>3</th>\n",
       "      <td>2018-08-28</td>\n",
       "      <td>67.0</td>\n",
       "      <td>7.0</td>\n",
       "      <td>17.0</td>\n",
       "      <td>111.0</td>\n",
       "      <td>-54.0</td>\n",
       "    </tr>\n",
       "    <tr>\n",
       "      <th>4</th>\n",
       "      <td>2018-08-29</td>\n",
       "      <td>90.0</td>\n",
       "      <td>24.0</td>\n",
       "      <td>58.0</td>\n",
       "      <td>187.0</td>\n",
       "      <td>-126.0</td>\n",
       "    </tr>\n",
       "    <tr>\n",
       "      <th>5</th>\n",
       "      <td>2018-08-30</td>\n",
       "      <td>35.0</td>\n",
       "      <td>13.0</td>\n",
       "      <td>45.0</td>\n",
       "      <td>147.0</td>\n",
       "      <td>-125.0</td>\n",
       "    </tr>\n",
       "  </tbody>\n",
       "</table>\n",
       "</div>"
      ],
      "text/plain": [
       "        date  input1  input2  input3  input4  target\n",
       "1 2018-08-26    41.0    29.0    28.0   183.0  -120.0\n",
       "2 2018-08-27    34.0     9.0    56.0   105.0   -43.0\n",
       "3 2018-08-28    67.0     7.0    17.0   111.0   -54.0\n",
       "4 2018-08-29    90.0    24.0    58.0   187.0  -126.0\n",
       "5 2018-08-30    35.0    13.0    45.0   147.0  -125.0"
      ]
     },
     "execution_count": 20,
     "metadata": {},
     "output_type": "execute_result"
    }
   ],
   "source": [
    "datelist = pd.date_range(start=pd.datetime.today(), periods=n, normalize=True).tolist()\n",
    "my_data2 = pd.DataFrame({'date': datelist, 'input1': x, 'input2': z, 'input3': u1, 'input4': u2, 'target': y})\n",
    "my_data2 = my_data2.drop(0)\n",
    "my_data2.head(5)"
   ]
  },
  {
   "cell_type": "code",
   "execution_count": 23,
   "metadata": {},
   "outputs": [
    {
     "data": {
      "text/plain": [
       "7302"
      ]
     },
     "execution_count": 23,
     "metadata": {},
     "output_type": "execute_result"
    }
   ],
   "source": [
    "full_data = my_data.append(my_data2)\n",
    "len(full_data)"
   ]
  },
  {
   "cell_type": "code",
   "execution_count": 24,
   "metadata": {},
   "outputs": [],
   "source": [
    "full_data.to_csv('examples/simple/data/varying_data.csv', index=False)"
   ]
  },
  {
   "cell_type": "markdown",
   "metadata": {},
   "source": [
    "### Run backtest with no retraining\n",
    "\n",
    "We run our backtest with without any retraining i.e. we fit an initial model on some data and use that same model each day going forward to make a prediction."
   ]
  },
  {
   "cell_type": "code",
   "execution_count": null,
   "metadata": {},
   "outputs": [],
   "source": [
    "pipe = pc.PipelineControl(data_path='examples/simple/data/varying_data.csv',\n",
    "                          prediction_path='examples/simple/data/predictions.csv',\n",
    "                          retraining_flag=False)\n",
    "pipe.runPipeline()"
   ]
  },
  {
   "cell_type": "markdown",
   "metadata": {},
   "source": [
    "We plot the tracking error of the model below and we find that the error explodes once the process has changed - this is because our pipeline has become stale and needs refitting."
   ]
  },
  {
   "cell_type": "code",
   "execution_count": 22,
   "metadata": {},
   "outputs": [
    {
     "data": {
      "text/plain": [
       "[<matplotlib.lines.Line2D at 0x1a1b2d7dd8>]"
      ]
     },
     "execution_count": 22,
     "metadata": {},
     "output_type": "execute_result"
    },
    {
     "data": {
      "image/png": "[encoded data removed]",
      "text/plain": [
       "<Figure size 432x288 with 1 Axes>"
      ]
     },
     "metadata": {},
     "output_type": "display_data"
    }
   ],
   "source": [
    "plt.plot(pipe.tracking_error)"
   ]
  },
  {
   "cell_type": "markdown",
   "metadata": {},
   "source": [
    "### Run backtest with retraining on all available data\n",
    "\n",
    "Next we run our backtest with retraining occurring at the end of every month. In this case when we retrain the pipeline we use all the available data at the time (i.e. our backtest framework is not peeking ahead)."
   ]
  },
  {
   "cell_type": "code",
   "execution_count": null,
   "metadata": {},
   "outputs": [],
   "source": [
    "pipe = pc.PipelineControl(data_path='examples/simple/data/varying_data.csv', \n",
    "                          prediction_path='examples/simple/data/predictions.csv',\n",
    "                          retraining_flag=True)\n",
    "pipe.runPipeline()"
   ]
  },
  {
   "cell_type": "markdown",
   "metadata": {},
   "source": [
    "In this case we see that the error starts to get smaller as the model is refitting, however it is very slowly getting back to the expected error."
   ]
  },
  {
   "cell_type": "code",
   "execution_count": 26,
   "metadata": {},
   "outputs": [
    {
     "data": {
      "text/plain": [
       "[<matplotlib.lines.Line2D at 0x10ba32668>]"
      ]
     },
     "execution_count": 26,
     "metadata": {},
     "output_type": "execute_result"
    },
    {
     "data": {
      "image/png": "[encoded data removed]",
      "text/plain": [
       "<Figure size 432x288 with 1 Axes>"
      ]
     },
     "metadata": {},
     "output_type": "display_data"
    }
   ],
   "source": [
    "plt.plot(pipe.tracking_error)"
   ]
  },
  {
   "cell_type": "markdown",
   "metadata": {},
   "source": [
    "### Run backtest with retraining on a sliding window\n",
    "\n",
    "Next we run our backtest with retraining occurring at the end of every month. In this case when we retrain the pipeline we use the most recent 500 datapoints rather than the entire history."
   ]
  },
  {
   "cell_type": "code",
   "execution_count": null,
   "metadata": {},
   "outputs": [],
   "source": [
    "pipe = pc.PipelineControl(data_path='examples/simple/data/varying_data.csv', \n",
    "                          prediction_path='examples/simple/data/predictions.csv',\n",
    "                          retraining_flag=True,\n",
    "                          sliding_window_size=500)\n",
    "pipe.runPipeline()"
   ]
  },
  {
   "cell_type": "markdown",
   "metadata": {},
   "source": [
    "Below we see that the tracking error becomes large, but it more quickly falls in line with expectation as the model adapts more quickly."
   ]
  },
  {
   "cell_type": "code",
   "execution_count": 28,
   "metadata": {},
   "outputs": [
    {
     "data": {
      "text/plain": [
       "[<matplotlib.lines.Line2D at 0x1a1b409438>]"
      ]
     },
     "execution_count": 28,
     "metadata": {},
     "output_type": "execute_result"
    },
    {
     "data": {
      "image/png": "[encoded data removed]",
      "text/plain": [
       "<Figure size 432x288 with 1 Axes>"
      ]
     },
     "metadata": {},
     "output_type": "display_data"
    }
   ],
   "source": [
    "plt.plot(pipe.tracking_error)"
   ]
  },
  {
   "cell_type": "markdown",
   "metadata": {},
   "source": [
    "## Conclusions\n",
    "\n",
    "* If the process we are seeking to model is fixed (i.e. does not vary through time) then we can simply do a one-off training routine to fit an ML pipline and serve the pipeline for inference (scoring).\n",
    "\n",
    "* If the process we are seeking to model varies through time then we need to retrain the ML pipeline on an ongoing basis. However, we have demonstrated that using all the available data at retraining time can lead to large errors on unseen data and therefore it is more beneficial to use a sliding window methodology since the model adapts quicker to the underlying changes in the process."
   ]
  }
 ],
 "metadata": {
  "kernelspec": {
   "display_name": "Python 3",
   "language": "python",
   "name": "python3"
  },
  "language_info": {
   "codemirror_mode": {
    "name": "ipython",
    "version": 3
   },
   "file_extension": ".py",
   "mimetype": "text/x-python",
   "name": "python",
   "nbconvert_exporter": "python",
   "pygments_lexer": "ipython3",
   "version": "3.6.5"
  }
 },
 "nbformat": 4,
 "nbformat_minor": 2
}
